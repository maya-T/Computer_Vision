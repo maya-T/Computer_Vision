{
  "nbformat": 4,
  "nbformat_minor": 0,
  "metadata": {
    "colab": {
      "name": "1-c: SVM.ipynb",
      "provenance": [],
      "collapsed_sections": []
    },
    "kernelspec": {
      "display_name": "Python 3",
      "name": "python3"
    }
  },
  "cells": [
    {
      "cell_type": "code",
      "metadata": {
        "id": "evKYvvtUXXZ-"
      },
      "source": [
        ""
      ],
      "execution_count": null,
      "outputs": []
    },
    {
      "cell_type": "code",
      "metadata": {
        "colab": {
          "base_uri": "https://localhost:8080/"
        },
        "id": "QK8of_MGVV2M",
        "outputId": "9e6d98f9-5398-4f25-d162-bcca2f9f91cb"
      },
      "source": [
        "!wget http://webia.lip6.fr/~douillard/rdfia/15_scenes_Xy.npz"
      ],
      "execution_count": null,
      "outputs": [
        {
          "output_type": "stream",
          "name": "stdout",
          "text": [
            "--2021-10-15 19:11:19--  http://webia.lip6.fr/~douillard/rdfia/15_scenes_Xy.npz\n",
            "Resolving webia.lip6.fr (webia.lip6.fr)... 132.227.201.33\n",
            "Connecting to webia.lip6.fr (webia.lip6.fr)|132.227.201.33|:80... connected.\n",
            "HTTP request sent, awaiting response... 200 OK\n",
            "Length: 35952210 (34M) [text/plain]\n",
            "Saving to: ‘15_scenes_Xy.npz’\n",
            "\n",
            "15_scenes_Xy.npz    100%[===================>]  34.29M  6.91MB/s    in 5.0s    \n",
            "\n",
            "2021-10-15 19:11:25 (6.91 MB/s) - ‘15_scenes_Xy.npz’ saved [35952210/35952210]\n",
            "\n"
          ]
        }
      ]
    },
    {
      "cell_type": "code",
      "metadata": {
        "colab": {
          "base_uri": "https://localhost:8080/"
        },
        "id": "PH3AHmt_WAOs",
        "outputId": "6ac22e2b-a67a-4bad-d607-08536c8dd119"
      },
      "source": [
        "%pylab inline\n",
        "\n",
        "import matplotlib.pyplot as plt\n",
        "import numpy as np\n",
        "from sklearn.svm import SVC\n",
        "from sklearn.model_selection import KFold, train_test_split"
      ],
      "execution_count": null,
      "outputs": [
        {
          "output_type": "stream",
          "name": "stdout",
          "text": [
            "Populating the interactive namespace from numpy and matplotlib\n"
          ]
        },
        {
          "output_type": "stream",
          "name": "stderr",
          "text": [
            "/usr/local/lib/python3.7/dist-packages/IPython/core/magics/pylab.py:161: UserWarning: pylab import has clobbered these variables: ['clf']\n",
            "`%matplotlib` prevents importing * from pylab and numpy\n",
            "  \"\\n`%matplotlib` prevents importing * from pylab and numpy\"\n"
          ]
        }
      ]
    },
    {
      "cell_type": "markdown",
      "metadata": {
        "id": "A6TfY3K0W8MM"
      },
      "source": [
        "Loading BoW of the whole dataset (4485 images, thus 4485 dictionnary of 1001 words):"
      ]
    },
    {
      "cell_type": "code",
      "metadata": {
        "colab": {
          "base_uri": "https://localhost:8080/"
        },
        "id": "FWLV0po7WO1E",
        "outputId": "894ab533-6885-49e8-d6de-e0d4eadaf68b"
      },
      "source": [
        "data = np.load(\"15_scenes_Xy.npz\")\n",
        "X = data[\"X\"]\n",
        "y = data[\"y\"]\n",
        "\n",
        "X.shape, y.shape"
      ],
      "execution_count": null,
      "outputs": [
        {
          "output_type": "execute_result",
          "data": {
            "text/plain": [
              "((4485, 1001), (4485,))"
            ]
          },
          "metadata": {},
          "execution_count": 4
        }
      ]
    },
    {
      "cell_type": "markdown",
      "metadata": {
        "id": "Sfh5x5kYXFcY"
      },
      "source": [
        "Let's see what is the class distribution:"
      ]
    },
    {
      "cell_type": "code",
      "metadata": {
        "colab": {
          "base_uri": "https://localhost:8080/"
        },
        "id": "RqNSdTTkWiPQ",
        "outputId": "d77867d7-b47a-4c15-9a83-9ff184d3d9ea"
      },
      "source": [
        "{c: nb for c, nb in enumerate(np.bincount(y))}"
      ],
      "execution_count": null,
      "outputs": [
        {
          "output_type": "execute_result",
          "data": {
            "text/plain": [
              "{0: 241,\n",
              " 1: 360,\n",
              " 2: 328,\n",
              " 3: 260,\n",
              " 4: 308,\n",
              " 5: 374,\n",
              " 6: 410,\n",
              " 7: 292,\n",
              " 8: 356,\n",
              " 9: 215,\n",
              " 10: 216,\n",
              " 11: 311,\n",
              " 12: 210,\n",
              " 13: 289,\n",
              " 14: 315}"
            ]
          },
          "metadata": {},
          "execution_count": 5
        }
      ]
    },
    {
      "cell_type": "markdown",
      "metadata": {
        "id": "MVUjgR30X7pI"
      },
      "source": [
        "Split the dataset into a train & test set:"
      ]
    },
    {
      "cell_type": "code",
      "metadata": {
        "id": "AO4XiNupWjVk"
      },
      "source": [
        "import numpy as np\n",
        "from sklearn.model_selection import train_test_split\n",
        "\n",
        "X_train, X_test, Y_train, Y_test = train_test_split(X, y, test_size=0.2, random_state=42)\n",
        "X_train, X_val, Y_train, Y_val = train_test_split(X_train, Y_train, test_size=0.08, random_state=42) # 0.1 x 0.8 = 0.08"
      ],
      "execution_count": null,
      "outputs": []
    },
    {
      "cell_type": "code",
      "metadata": {
        "colab": {
          "base_uri": "https://localhost:8080/"
        },
        "id": "6MQKcW864GQ3",
        "outputId": "1497747e-c6ab-4910-b1f5-bbdd4a78e1f2"
      },
      "source": [
        "X_train.shape, X_test.shape, X_val.shape"
      ],
      "execution_count": null,
      "outputs": [
        {
          "output_type": "execute_result",
          "data": {
            "text/plain": [
              "((3300, 1001), (897, 1001), (288, 1001))"
            ]
          },
          "metadata": {},
          "execution_count": 7
        }
      ]
    },
    {
      "cell_type": "markdown",
      "metadata": {
        "id": "NHlcmt-SYBKQ"
      },
      "source": [
        "Let's KFold over different values of `C`:"
      ]
    },
    {
      "cell_type": "code",
      "metadata": {
        "colab": {
          "base_uri": "https://localhost:8080/"
        },
        "id": "F9wZ9l5FX_QY",
        "outputId": "0b8b20a5-596a-4ace-cb4c-4a7d32385017"
      },
      "source": [
        "from sklearn import svm\n",
        "\n",
        "C_values = [2**i for i in range(8)]\n",
        "print(C_values)\n",
        "accuracies_val = []\n",
        "accuracies_train = []\n",
        "\n",
        "for k in ['linear', 'rbf', 'poly', 'sigmoid']:  \n",
        "  print(f'Training SVM with C={c}')\n",
        "  clf = svm.SVC(C = 128, kernel = k)\n",
        "  clf.fit(X_train, Y_train)\n",
        "  accuracies_val.append(clf.score(X_val, Y_val))\n",
        "print(accuracies_val)"
      ],
      "execution_count": null,
      "outputs": [
        {
          "output_type": "stream",
          "name": "stdout",
          "text": [
            "[1, 2, 4, 8, 16, 32, 64, 128]\n",
            "Training SVM with C=128\n",
            "Training SVM with C=128\n",
            "Training SVM with C=128\n",
            "Training SVM with C=128\n",
            "[0.7395833333333334, 0.7638888888888888, 0.6597222222222222, 0.16666666666666666]\n"
          ]
        }
      ]
    },
    {
      "cell_type": "code",
      "metadata": {
        "colab": {
          "base_uri": "https://localhost:8080/",
          "height": 283
        },
        "id": "8GMuFzz1Yoq-",
        "outputId": "eb931628-2b22-49ef-9be9-cf61de112b37"
      },
      "source": [
        "plt.plot(['linear', 'rbf', 'poly', 'sigmoid'], accuracies_val)"
      ],
      "execution_count": null,
      "outputs": [
        {
          "output_type": "execute_result",
          "data": {
            "text/plain": [
              "[<matplotlib.lines.Line2D at 0x7f3207aa1c90>]"
            ]
          },
          "metadata": {},
          "execution_count": 21
        },
        {
          "output_type": "display_data",
          "data": {
            "image/png": "[encoded data removed]",
            "text/plain": [
              "<Figure size 432x288 with 1 Axes>"
            ]
          },
          "metadata": {
            "needs_background": "light"
          }
        }
      ]
    },
    {
      "cell_type": "code",
      "metadata": {
        "colab": {
          "base_uri": "https://localhost:8080/"
        },
        "id": "a8md3e7iZN5M",
        "outputId": "d949f322-9d2f-46c2-9246-20c9113c4bc9"
      },
      "source": [
        "accuracies_val, accuracies_train"
      ],
      "execution_count": null,
      "outputs": [
        {
          "data": {
            "text/plain": [
              "([0.7638888888888888], [1.0])"
            ]
          },
          "execution_count": 28,
          "metadata": {},
          "output_type": "execute_result"
        }
      ]
    },
    {
      "cell_type": "code",
      "metadata": {
        "colab": {
          "base_uri": "https://localhost:8080/"
        },
        "id": "7D_jgvkcfJXq",
        "outputId": "dcdc0732-add4-43cc-b927-05cef4264b75"
      },
      "source": [
        "C_values[np.argmax(accuracies_val)]"
      ],
      "execution_count": null,
      "outputs": [
        {
          "output_type": "execute_result",
          "data": {
            "text/plain": [
              "128"
            ]
          },
          "metadata": {},
          "execution_count": 16
        }
      ]
    },
    {
      "cell_type": "code",
      "metadata": {
        "colab": {
          "base_uri": "https://localhost:8080/"
        },
        "id": "Pwd0BdIhbR5o",
        "outputId": "35593b28-fc86-434b-8e06-2d77b4aaf376"
      },
      "source": [
        "clf = svm.SVC(C = 128, decision_function_shape =\"ovr\")\n",
        "clf.fit(np.concatenate((X_train, X_val)), np.concatenate((Y_train, Y_val)))\n",
        "clf.score(X_test, Y_test)"
      ],
      "execution_count": null,
      "outputs": [
        {
          "output_type": "execute_result",
          "data": {
            "text/plain": [
              "0.745819397993311"
            ]
          },
          "metadata": {},
          "execution_count": 17
        }
      ]
    },
    {
      "cell_type": "code",
      "metadata": {
        "colab": {
          "base_uri": "https://localhost:8080/"
        },
        "id": "9bidDmc3fY6C",
        "outputId": "e5f364a2-7a14-429d-9ad8-c3cef1a60407"
      },
      "source": [
        "clf = svm.SVC(C = 128, decision_function_shape =\"ovo\")\n",
        "clf.fit(np.concatenate((X_train, X_val)), np.concatenate((Y_train, Y_val)))\n",
        "clf.score(X_test, Y_test)"
      ],
      "execution_count": null,
      "outputs": [
        {
          "output_type": "execute_result",
          "data": {
            "text/plain": [
              "0.745819397993311"
            ]
          },
          "metadata": {},
          "execution_count": 18
        }
      ]
    },
    {
      "cell_type": "code",
      "metadata": {
        "colab": {
          "base_uri": "https://localhost:8080/",
          "height": 283
        },
        "id": "C6ZpXD3WfdQ9",
        "outputId": "b7d42a46-4806-4811-f83b-06faccb1a0e9"
      },
      "source": [
        "plt.plot([\"ovo\", \"ovr\"], [0.745819397993311, 0.745819397993311])"
      ],
      "execution_count": null,
      "outputs": [
        {
          "output_type": "execute_result",
          "data": {
            "text/plain": [
              "[<matplotlib.lines.Line2D at 0x7f32079fee90>]"
            ]
          },
          "metadata": {},
          "execution_count": 22
        },
        {
          "output_type": "display_data",
          "data": {
            "image/png": "[encoded data removed]",
            "text/plain": [
              "<Figure size 432x288 with 1 Axes>"
            ]
          },
          "metadata": {
            "needs_background": "light"
          }
        }
      ]
    },
    {
      "cell_type": "code",
      "metadata": {
        "id": "1kAcZBo2f9C5"
      },
      "source": [
        ""
      ],
      "execution_count": null,
      "outputs": []
    },
    {
      "cell_type": "code",
      "metadata": {
        "id": "SK7WWSltbJbc"
      },
      "source": [
        "from sklearn.model_selection import GridSearchCV\n",
        "parameters = {''kernel': }\n",
        "svc = svm.SVC()\n",
        "clf = GridSearchCV(svc, parameters)"
      ],
      "execution_count": null,
      "outputs": []
    },
    {
      "cell_type": "code",
      "metadata": {
        "colab": {
          "background_save": true
        },
        "id": "TyiUlqsOFR7u",
        "outputId": "a34e015e-1ac6-4906-f057-2a7af9bb5f16"
      },
      "source": [
        "clf.fit(X_train, Y_train)"
      ],
      "execution_count": null,
      "outputs": [
        {
          "data": {
            "text/plain": [
              "GridSearchCV(cv=None, error_score=nan,\n",
              "             estimator=SVC(C=1.0, break_ties=False, cache_size=200,\n",
              "                           class_weight=None, coef0=0.0,\n",
              "                           decision_function_shape='ovr', degree=3,\n",
              "                           gamma='scale', kernel='rbf', max_iter=-1,\n",
              "                           probability=False, random_state=None, shrinking=True,\n",
              "                           tol=0.001, verbose=False),\n",
              "             iid='deprecated', n_jobs=None,\n",
              "             param_grid={'C': [50, 100, 150],\n",
              "                         'decision_function_shape': ['ovo', 'ovr'],\n",
              "                         'gamma': [0.001, 0.0001],\n",
              "                         'kernel': ['linear', 'rbf', 'poly', 'sigmoid']},\n",
              "             pre_dispatch='2*n_jobs', refit=True, return_train_score=False,\n",
              "             scoring=None, verbose=0)"
            ]
          },
          "execution_count": null,
          "metadata": {},
          "output_type": "execute_result"
        }
      ]
    },
    {
      "cell_type": "markdown",
      "metadata": {
        "id": "iCRk9QaGbiuM"
      },
      "source": [
        "Do the same with different kernel values, and different decision functions:"
      ]
    },
    {
      "cell_type": "code",
      "metadata": {
        "id": "jAWpodqxC1w_"
      },
      "source": [
        ""
      ],
      "execution_count": null,
      "outputs": []
    }
  ]
}